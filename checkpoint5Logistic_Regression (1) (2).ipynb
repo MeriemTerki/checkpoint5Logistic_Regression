{
 "cells": [
  {
   "cell_type": "markdown",
   "id": "f1501263",
   "metadata": {},
   "source": [
    "### Importing labriries"
   ]
  },
  {
   "cell_type": "code",
   "execution_count": 61,
   "id": "0cfc258e",
   "metadata": {},
   "outputs": [],
   "source": [
    "import numpy as np\n",
    "import pandas as pd\n",
    "import matplotlib.pyplot as plt\n",
    "import seaborn as sns\n",
    "sns.set(style = \"white\",color_codes = True)\n",
    "sns.set(font_scale = 1.5)\n",
    "\n",
    "\n",
    "from sklearn .linear_model import LogisticRegression\n",
    "from sklearn.model_selection import train_test_split\n",
    "\n",
    "\n",
    "from sklearn.metrics import confusion_matrix\n",
    "from sklearn.metrics import classification_report\n",
    "from sklearn.metrics import accuracy_score\n",
    "from sklearn.metrics import precision_score\n",
    "from sklearn.metrics import recall_score\n",
    "from sklearn.metrics import f1_score\n",
    "from sklearn import metrics\n"
   ]
  },
  {
   "cell_type": "markdown",
   "id": "9d3ccc9b",
   "metadata": {},
   "source": [
    "### Importing the data"
   ]
  },
  {
   "cell_type": "code",
   "execution_count": 2,
   "id": "30c8c848",
   "metadata": {},
   "outputs": [
    {
     "data": {
      "text/html": [
       "<div>\n",
       "<style scoped>\n",
       "    .dataframe tbody tr th:only-of-type {\n",
       "        vertical-align: middle;\n",
       "    }\n",
       "\n",
       "    .dataframe tbody tr th {\n",
       "        vertical-align: top;\n",
       "    }\n",
       "\n",
       "    .dataframe thead th {\n",
       "        text-align: right;\n",
       "    }\n",
       "</style>\n",
       "<table border=\"1\" class=\"dataframe\">\n",
       "  <thead>\n",
       "    <tr style=\"text-align: right;\">\n",
       "      <th></th>\n",
       "      <th>PassengerId</th>\n",
       "      <th>Survived</th>\n",
       "      <th>Pclass</th>\n",
       "      <th>Name</th>\n",
       "      <th>Sex</th>\n",
       "      <th>Age</th>\n",
       "      <th>SibSp</th>\n",
       "      <th>Parch</th>\n",
       "      <th>Ticket</th>\n",
       "      <th>Fare</th>\n",
       "      <th>Cabin</th>\n",
       "      <th>Embarked</th>\n",
       "    </tr>\n",
       "  </thead>\n",
       "  <tbody>\n",
       "    <tr>\n",
       "      <th>0</th>\n",
       "      <td>1</td>\n",
       "      <td>0</td>\n",
       "      <td>3</td>\n",
       "      <td>Braund, Mr. Owen Harris</td>\n",
       "      <td>male</td>\n",
       "      <td>22.0</td>\n",
       "      <td>1</td>\n",
       "      <td>0</td>\n",
       "      <td>A/5 21171</td>\n",
       "      <td>7.2500</td>\n",
       "      <td>NaN</td>\n",
       "      <td>S</td>\n",
       "    </tr>\n",
       "    <tr>\n",
       "      <th>1</th>\n",
       "      <td>2</td>\n",
       "      <td>1</td>\n",
       "      <td>1</td>\n",
       "      <td>Cumings, Mrs. John Bradley (Florence Briggs Th...</td>\n",
       "      <td>female</td>\n",
       "      <td>38.0</td>\n",
       "      <td>1</td>\n",
       "      <td>0</td>\n",
       "      <td>PC 17599</td>\n",
       "      <td>71.2833</td>\n",
       "      <td>C85</td>\n",
       "      <td>C</td>\n",
       "    </tr>\n",
       "    <tr>\n",
       "      <th>2</th>\n",
       "      <td>3</td>\n",
       "      <td>1</td>\n",
       "      <td>3</td>\n",
       "      <td>Heikkinen, Miss. Laina</td>\n",
       "      <td>female</td>\n",
       "      <td>26.0</td>\n",
       "      <td>0</td>\n",
       "      <td>0</td>\n",
       "      <td>STON/O2. 3101282</td>\n",
       "      <td>7.9250</td>\n",
       "      <td>NaN</td>\n",
       "      <td>S</td>\n",
       "    </tr>\n",
       "    <tr>\n",
       "      <th>3</th>\n",
       "      <td>4</td>\n",
       "      <td>1</td>\n",
       "      <td>1</td>\n",
       "      <td>Futrelle, Mrs. Jacques Heath (Lily May Peel)</td>\n",
       "      <td>female</td>\n",
       "      <td>35.0</td>\n",
       "      <td>1</td>\n",
       "      <td>0</td>\n",
       "      <td>113803</td>\n",
       "      <td>53.1000</td>\n",
       "      <td>C123</td>\n",
       "      <td>S</td>\n",
       "    </tr>\n",
       "    <tr>\n",
       "      <th>4</th>\n",
       "      <td>5</td>\n",
       "      <td>0</td>\n",
       "      <td>3</td>\n",
       "      <td>Allen, Mr. William Henry</td>\n",
       "      <td>male</td>\n",
       "      <td>35.0</td>\n",
       "      <td>0</td>\n",
       "      <td>0</td>\n",
       "      <td>373450</td>\n",
       "      <td>8.0500</td>\n",
       "      <td>NaN</td>\n",
       "      <td>S</td>\n",
       "    </tr>\n",
       "    <tr>\n",
       "      <th>...</th>\n",
       "      <td>...</td>\n",
       "      <td>...</td>\n",
       "      <td>...</td>\n",
       "      <td>...</td>\n",
       "      <td>...</td>\n",
       "      <td>...</td>\n",
       "      <td>...</td>\n",
       "      <td>...</td>\n",
       "      <td>...</td>\n",
       "      <td>...</td>\n",
       "      <td>...</td>\n",
       "      <td>...</td>\n",
       "    </tr>\n",
       "    <tr>\n",
       "      <th>886</th>\n",
       "      <td>887</td>\n",
       "      <td>0</td>\n",
       "      <td>2</td>\n",
       "      <td>Montvila, Rev. Juozas</td>\n",
       "      <td>male</td>\n",
       "      <td>27.0</td>\n",
       "      <td>0</td>\n",
       "      <td>0</td>\n",
       "      <td>211536</td>\n",
       "      <td>13.0000</td>\n",
       "      <td>NaN</td>\n",
       "      <td>S</td>\n",
       "    </tr>\n",
       "    <tr>\n",
       "      <th>887</th>\n",
       "      <td>888</td>\n",
       "      <td>1</td>\n",
       "      <td>1</td>\n",
       "      <td>Graham, Miss. Margaret Edith</td>\n",
       "      <td>female</td>\n",
       "      <td>19.0</td>\n",
       "      <td>0</td>\n",
       "      <td>0</td>\n",
       "      <td>112053</td>\n",
       "      <td>30.0000</td>\n",
       "      <td>B42</td>\n",
       "      <td>S</td>\n",
       "    </tr>\n",
       "    <tr>\n",
       "      <th>888</th>\n",
       "      <td>889</td>\n",
       "      <td>0</td>\n",
       "      <td>3</td>\n",
       "      <td>Johnston, Miss. Catherine Helen \"Carrie\"</td>\n",
       "      <td>female</td>\n",
       "      <td>NaN</td>\n",
       "      <td>1</td>\n",
       "      <td>2</td>\n",
       "      <td>W./C. 6607</td>\n",
       "      <td>23.4500</td>\n",
       "      <td>NaN</td>\n",
       "      <td>S</td>\n",
       "    </tr>\n",
       "    <tr>\n",
       "      <th>889</th>\n",
       "      <td>890</td>\n",
       "      <td>1</td>\n",
       "      <td>1</td>\n",
       "      <td>Behr, Mr. Karl Howell</td>\n",
       "      <td>male</td>\n",
       "      <td>26.0</td>\n",
       "      <td>0</td>\n",
       "      <td>0</td>\n",
       "      <td>111369</td>\n",
       "      <td>30.0000</td>\n",
       "      <td>C148</td>\n",
       "      <td>C</td>\n",
       "    </tr>\n",
       "    <tr>\n",
       "      <th>890</th>\n",
       "      <td>891</td>\n",
       "      <td>0</td>\n",
       "      <td>3</td>\n",
       "      <td>Dooley, Mr. Patrick</td>\n",
       "      <td>male</td>\n",
       "      <td>32.0</td>\n",
       "      <td>0</td>\n",
       "      <td>0</td>\n",
       "      <td>370376</td>\n",
       "      <td>7.7500</td>\n",
       "      <td>NaN</td>\n",
       "      <td>Q</td>\n",
       "    </tr>\n",
       "  </tbody>\n",
       "</table>\n",
       "<p>891 rows × 12 columns</p>\n",
       "</div>"
      ],
      "text/plain": [
       "     PassengerId  Survived  Pclass  \\\n",
       "0              1         0       3   \n",
       "1              2         1       1   \n",
       "2              3         1       3   \n",
       "3              4         1       1   \n",
       "4              5         0       3   \n",
       "..           ...       ...     ...   \n",
       "886          887         0       2   \n",
       "887          888         1       1   \n",
       "888          889         0       3   \n",
       "889          890         1       1   \n",
       "890          891         0       3   \n",
       "\n",
       "                                                  Name     Sex   Age  SibSp  \\\n",
       "0                              Braund, Mr. Owen Harris    male  22.0      1   \n",
       "1    Cumings, Mrs. John Bradley (Florence Briggs Th...  female  38.0      1   \n",
       "2                               Heikkinen, Miss. Laina  female  26.0      0   \n",
       "3         Futrelle, Mrs. Jacques Heath (Lily May Peel)  female  35.0      1   \n",
       "4                             Allen, Mr. William Henry    male  35.0      0   \n",
       "..                                                 ...     ...   ...    ...   \n",
       "886                              Montvila, Rev. Juozas    male  27.0      0   \n",
       "887                       Graham, Miss. Margaret Edith  female  19.0      0   \n",
       "888           Johnston, Miss. Catherine Helen \"Carrie\"  female   NaN      1   \n",
       "889                              Behr, Mr. Karl Howell    male  26.0      0   \n",
       "890                                Dooley, Mr. Patrick    male  32.0      0   \n",
       "\n",
       "     Parch            Ticket     Fare Cabin Embarked  \n",
       "0        0         A/5 21171   7.2500   NaN        S  \n",
       "1        0          PC 17599  71.2833   C85        C  \n",
       "2        0  STON/O2. 3101282   7.9250   NaN        S  \n",
       "3        0            113803  53.1000  C123        S  \n",
       "4        0            373450   8.0500   NaN        S  \n",
       "..     ...               ...      ...   ...      ...  \n",
       "886      0            211536  13.0000   NaN        S  \n",
       "887      0            112053  30.0000   B42        S  \n",
       "888      2        W./C. 6607  23.4500   NaN        S  \n",
       "889      0            111369  30.0000  C148        C  \n",
       "890      0            370376   7.7500   NaN        Q  \n",
       "\n",
       "[891 rows x 12 columns]"
      ]
     },
     "execution_count": 2,
     "metadata": {},
     "output_type": "execute_result"
    }
   ],
   "source": [
    "titanic_df = pd.read_csv('https://raw.githubusercontent.com/datasciencedojo/datasets/master/titanic.csv')\n",
    "titanic_df"
   ]
  },
  {
   "cell_type": "code",
   "execution_count": 45,
   "id": "cf1cd6bd",
   "metadata": {},
   "outputs": [
    {
     "data": {
      "text/plain": [
       "(889, 8)"
      ]
     },
     "execution_count": 45,
     "metadata": {},
     "output_type": "execute_result"
    }
   ],
   "source": [
    "titanic_df.shape"
   ]
  },
  {
   "cell_type": "code",
   "execution_count": 46,
   "id": "88167499",
   "metadata": {},
   "outputs": [],
   "source": [
    "### checking which features are the most important"
   ]
  },
  {
   "cell_type": "code",
   "execution_count": 4,
   "id": "1be734bc",
   "metadata": {},
   "outputs": [
    {
     "data": {
      "text/plain": [
       "0    549\n",
       "1    342\n",
       "Name: Survived, dtype: int64"
      ]
     },
     "execution_count": 4,
     "metadata": {},
     "output_type": "execute_result"
    }
   ],
   "source": [
    "titanic_df['Survived'].value_counts()"
   ]
  },
  {
   "cell_type": "code",
   "execution_count": 5,
   "id": "38b8c77d",
   "metadata": {},
   "outputs": [
    {
     "data": {
      "text/plain": [
       "male      577\n",
       "female    314\n",
       "Name: Sex, dtype: int64"
      ]
     },
     "execution_count": 5,
     "metadata": {},
     "output_type": "execute_result"
    }
   ],
   "source": [
    "titanic_df['Sex'].value_counts()"
   ]
  },
  {
   "cell_type": "code",
   "execution_count": 6,
   "id": "ea305e13",
   "metadata": {},
   "outputs": [
    {
     "data": {
      "text/plain": [
       "S    644\n",
       "C    168\n",
       "Q     77\n",
       "Name: Embarked, dtype: int64"
      ]
     },
     "execution_count": 6,
     "metadata": {},
     "output_type": "execute_result"
    }
   ],
   "source": [
    "titanic_df['Embarked'].value_counts()"
   ]
  },
  {
   "cell_type": "code",
   "execution_count": 7,
   "id": "e87cb9e7",
   "metadata": {},
   "outputs": [],
   "source": [
    "### checking the missing values"
   ]
  },
  {
   "cell_type": "code",
   "execution_count": 8,
   "id": "da25ad87",
   "metadata": {},
   "outputs": [
    {
     "data": {
      "text/plain": [
       "PassengerId      0\n",
       "Survived         0\n",
       "Pclass           0\n",
       "Name             0\n",
       "Sex              0\n",
       "Age            177\n",
       "SibSp            0\n",
       "Parch            0\n",
       "Ticket           0\n",
       "Fare             0\n",
       "Cabin          687\n",
       "Embarked         2\n",
       "dtype: int64"
      ]
     },
     "execution_count": 8,
     "metadata": {},
     "output_type": "execute_result"
    }
   ],
   "source": [
    "titanic_df.isnull().sum()"
   ]
  },
  {
   "cell_type": "code",
   "execution_count": 9,
   "id": "243f04c6",
   "metadata": {},
   "outputs": [],
   "source": [
    "### droping useless columns "
   ]
  },
  {
   "cell_type": "code",
   "execution_count": 10,
   "id": "d728fdb4",
   "metadata": {},
   "outputs": [],
   "source": [
    "titanic_df = titanic_df.drop(['PassengerId','Name','Ticket','Cabin'],axis = 1)"
   ]
  },
  {
   "cell_type": "code",
   "execution_count": 11,
   "id": "05adf5e0",
   "metadata": {},
   "outputs": [
    {
     "data": {
      "text/html": [
       "<div>\n",
       "<style scoped>\n",
       "    .dataframe tbody tr th:only-of-type {\n",
       "        vertical-align: middle;\n",
       "    }\n",
       "\n",
       "    .dataframe tbody tr th {\n",
       "        vertical-align: top;\n",
       "    }\n",
       "\n",
       "    .dataframe thead th {\n",
       "        text-align: right;\n",
       "    }\n",
       "</style>\n",
       "<table border=\"1\" class=\"dataframe\">\n",
       "  <thead>\n",
       "    <tr style=\"text-align: right;\">\n",
       "      <th></th>\n",
       "      <th>Survived</th>\n",
       "      <th>Pclass</th>\n",
       "      <th>Sex</th>\n",
       "      <th>Age</th>\n",
       "      <th>SibSp</th>\n",
       "      <th>Parch</th>\n",
       "      <th>Fare</th>\n",
       "      <th>Embarked</th>\n",
       "    </tr>\n",
       "  </thead>\n",
       "  <tbody>\n",
       "    <tr>\n",
       "      <th>0</th>\n",
       "      <td>0</td>\n",
       "      <td>3</td>\n",
       "      <td>male</td>\n",
       "      <td>22.0</td>\n",
       "      <td>1</td>\n",
       "      <td>0</td>\n",
       "      <td>7.2500</td>\n",
       "      <td>S</td>\n",
       "    </tr>\n",
       "    <tr>\n",
       "      <th>1</th>\n",
       "      <td>1</td>\n",
       "      <td>1</td>\n",
       "      <td>female</td>\n",
       "      <td>38.0</td>\n",
       "      <td>1</td>\n",
       "      <td>0</td>\n",
       "      <td>71.2833</td>\n",
       "      <td>C</td>\n",
       "    </tr>\n",
       "    <tr>\n",
       "      <th>2</th>\n",
       "      <td>1</td>\n",
       "      <td>3</td>\n",
       "      <td>female</td>\n",
       "      <td>26.0</td>\n",
       "      <td>0</td>\n",
       "      <td>0</td>\n",
       "      <td>7.9250</td>\n",
       "      <td>S</td>\n",
       "    </tr>\n",
       "    <tr>\n",
       "      <th>3</th>\n",
       "      <td>1</td>\n",
       "      <td>1</td>\n",
       "      <td>female</td>\n",
       "      <td>35.0</td>\n",
       "      <td>1</td>\n",
       "      <td>0</td>\n",
       "      <td>53.1000</td>\n",
       "      <td>S</td>\n",
       "    </tr>\n",
       "    <tr>\n",
       "      <th>4</th>\n",
       "      <td>0</td>\n",
       "      <td>3</td>\n",
       "      <td>male</td>\n",
       "      <td>35.0</td>\n",
       "      <td>0</td>\n",
       "      <td>0</td>\n",
       "      <td>8.0500</td>\n",
       "      <td>S</td>\n",
       "    </tr>\n",
       "  </tbody>\n",
       "</table>\n",
       "</div>"
      ],
      "text/plain": [
       "   Survived  Pclass     Sex   Age  SibSp  Parch     Fare Embarked\n",
       "0         0       3    male  22.0      1      0   7.2500        S\n",
       "1         1       1  female  38.0      1      0  71.2833        C\n",
       "2         1       3  female  26.0      0      0   7.9250        S\n",
       "3         1       1  female  35.0      1      0  53.1000        S\n",
       "4         0       3    male  35.0      0      0   8.0500        S"
      ]
     },
     "execution_count": 11,
     "metadata": {},
     "output_type": "execute_result"
    }
   ],
   "source": [
    "titanic_df.head()"
   ]
  },
  {
   "cell_type": "code",
   "execution_count": 12,
   "id": "c21b657d",
   "metadata": {},
   "outputs": [],
   "source": [
    "### Delling with messing values and Age variable"
   ]
  },
  {
   "cell_type": "code",
   "execution_count": 13,
   "id": "60162171",
   "metadata": {},
   "outputs": [],
   "source": [
    "def age_approx(cols):\n",
    "    Age = cols[0]\n",
    "    Pclass = cols[1]\n",
    "    if pd.isnull(Age):\n",
    "        if Pclass ==1:\n",
    "            return 37\n",
    "        elif Pclass == 2:\n",
    "            return 29\n",
    "        else:\n",
    "            return 24\n",
    "    else:\n",
    "        return Age"
   ]
  },
  {
   "cell_type": "code",
   "execution_count": 14,
   "id": "05a66cd0",
   "metadata": {},
   "outputs": [
    {
     "data": {
      "text/html": [
       "<div>\n",
       "<style scoped>\n",
       "    .dataframe tbody tr th:only-of-type {\n",
       "        vertical-align: middle;\n",
       "    }\n",
       "\n",
       "    .dataframe tbody tr th {\n",
       "        vertical-align: top;\n",
       "    }\n",
       "\n",
       "    .dataframe thead th {\n",
       "        text-align: right;\n",
       "    }\n",
       "</style>\n",
       "<table border=\"1\" class=\"dataframe\">\n",
       "  <thead>\n",
       "    <tr style=\"text-align: right;\">\n",
       "      <th></th>\n",
       "      <th>Survived</th>\n",
       "      <th>Age</th>\n",
       "      <th>SibSp</th>\n",
       "      <th>Parch</th>\n",
       "      <th>Fare</th>\n",
       "    </tr>\n",
       "    <tr>\n",
       "      <th>Pclass</th>\n",
       "      <th></th>\n",
       "      <th></th>\n",
       "      <th></th>\n",
       "      <th></th>\n",
       "      <th></th>\n",
       "    </tr>\n",
       "  </thead>\n",
       "  <tbody>\n",
       "    <tr>\n",
       "      <th>1</th>\n",
       "      <td>0.629630</td>\n",
       "      <td>38.233441</td>\n",
       "      <td>0.416667</td>\n",
       "      <td>0.356481</td>\n",
       "      <td>84.154687</td>\n",
       "    </tr>\n",
       "    <tr>\n",
       "      <th>2</th>\n",
       "      <td>0.472826</td>\n",
       "      <td>29.877630</td>\n",
       "      <td>0.402174</td>\n",
       "      <td>0.380435</td>\n",
       "      <td>20.662183</td>\n",
       "    </tr>\n",
       "    <tr>\n",
       "      <th>3</th>\n",
       "      <td>0.242363</td>\n",
       "      <td>25.140620</td>\n",
       "      <td>0.615071</td>\n",
       "      <td>0.393075</td>\n",
       "      <td>13.675550</td>\n",
       "    </tr>\n",
       "  </tbody>\n",
       "</table>\n",
       "</div>"
      ],
      "text/plain": [
       "        Survived        Age     SibSp     Parch       Fare\n",
       "Pclass                                                    \n",
       "1       0.629630  38.233441  0.416667  0.356481  84.154687\n",
       "2       0.472826  29.877630  0.402174  0.380435  20.662183\n",
       "3       0.242363  25.140620  0.615071  0.393075  13.675550"
      ]
     },
     "execution_count": 14,
     "metadata": {},
     "output_type": "execute_result"
    }
   ],
   "source": [
    "titanic_df.groupby(['Pclass']).mean()"
   ]
  },
  {
   "cell_type": "code",
   "execution_count": 15,
   "id": "115e0b11",
   "metadata": {},
   "outputs": [],
   "source": [
    "titanic_df['Age'] = titanic_df[['Age','Pclass']].apply(age_approx,axis = 1)"
   ]
  },
  {
   "cell_type": "code",
   "execution_count": 16,
   "id": "b82aeb2c",
   "metadata": {},
   "outputs": [
    {
     "data": {
      "text/plain": [
       "Survived    0\n",
       "Pclass      0\n",
       "Sex         0\n",
       "Age         0\n",
       "SibSp       0\n",
       "Parch       0\n",
       "Fare        0\n",
       "Embarked    2\n",
       "dtype: int64"
      ]
     },
     "execution_count": 16,
     "metadata": {},
     "output_type": "execute_result"
    }
   ],
   "source": [
    "titanic_df.isnull().sum()"
   ]
  },
  {
   "cell_type": "code",
   "execution_count": 17,
   "id": "7f6bcf80",
   "metadata": {},
   "outputs": [
    {
     "data": {
      "text/plain": [
       "Survived    0\n",
       "Pclass      0\n",
       "Sex         0\n",
       "Age         0\n",
       "SibSp       0\n",
       "Parch       0\n",
       "Fare        0\n",
       "Embarked    0\n",
       "dtype: int64"
      ]
     },
     "execution_count": 17,
     "metadata": {},
     "output_type": "execute_result"
    }
   ],
   "source": [
    "titanic_df.dropna(inplace = True)\n",
    "titanic_df.isnull().sum()"
   ]
  },
  {
   "cell_type": "code",
   "execution_count": 47,
   "id": "670e8512",
   "metadata": {},
   "outputs": [
    {
     "data": {
      "text/plain": [
       "Survived      int64\n",
       "Pclass        int64\n",
       "Sex          object\n",
       "Age         float64\n",
       "SibSp         int64\n",
       "Parch         int64\n",
       "Fare        float64\n",
       "Embarked     object\n",
       "dtype: object"
      ]
     },
     "execution_count": 47,
     "metadata": {},
     "output_type": "execute_result"
    }
   ],
   "source": [
    "titanic_df.dtypes"
   ]
  },
  {
   "cell_type": "code",
   "execution_count": 48,
   "id": "535e5a6a",
   "metadata": {},
   "outputs": [],
   "source": [
    "### xonverting categorical feautures into numerical ones"
   ]
  },
  {
   "cell_type": "code",
   "execution_count": 22,
   "id": "8a0e04f8",
   "metadata": {},
   "outputs": [],
   "source": [
    "titanic_df_dummies = pd.get_dummies(titanic_df, columns = ['Embarked','Sex'])"
   ]
  },
  {
   "cell_type": "code",
   "execution_count": 23,
   "id": "4c8e7dd4",
   "metadata": {},
   "outputs": [
    {
     "data": {
      "text/html": [
       "<div>\n",
       "<style scoped>\n",
       "    .dataframe tbody tr th:only-of-type {\n",
       "        vertical-align: middle;\n",
       "    }\n",
       "\n",
       "    .dataframe tbody tr th {\n",
       "        vertical-align: top;\n",
       "    }\n",
       "\n",
       "    .dataframe thead th {\n",
       "        text-align: right;\n",
       "    }\n",
       "</style>\n",
       "<table border=\"1\" class=\"dataframe\">\n",
       "  <thead>\n",
       "    <tr style=\"text-align: right;\">\n",
       "      <th></th>\n",
       "      <th>Survived</th>\n",
       "      <th>Pclass</th>\n",
       "      <th>Age</th>\n",
       "      <th>SibSp</th>\n",
       "      <th>Parch</th>\n",
       "      <th>Fare</th>\n",
       "      <th>Embarked_C</th>\n",
       "      <th>Embarked_Q</th>\n",
       "      <th>Embarked_S</th>\n",
       "      <th>Sex_female</th>\n",
       "      <th>Sex_male</th>\n",
       "    </tr>\n",
       "  </thead>\n",
       "  <tbody>\n",
       "    <tr>\n",
       "      <th>0</th>\n",
       "      <td>0</td>\n",
       "      <td>3</td>\n",
       "      <td>22.0</td>\n",
       "      <td>1</td>\n",
       "      <td>0</td>\n",
       "      <td>7.2500</td>\n",
       "      <td>0</td>\n",
       "      <td>0</td>\n",
       "      <td>1</td>\n",
       "      <td>0</td>\n",
       "      <td>1</td>\n",
       "    </tr>\n",
       "    <tr>\n",
       "      <th>1</th>\n",
       "      <td>1</td>\n",
       "      <td>1</td>\n",
       "      <td>38.0</td>\n",
       "      <td>1</td>\n",
       "      <td>0</td>\n",
       "      <td>71.2833</td>\n",
       "      <td>1</td>\n",
       "      <td>0</td>\n",
       "      <td>0</td>\n",
       "      <td>1</td>\n",
       "      <td>0</td>\n",
       "    </tr>\n",
       "    <tr>\n",
       "      <th>2</th>\n",
       "      <td>1</td>\n",
       "      <td>3</td>\n",
       "      <td>26.0</td>\n",
       "      <td>0</td>\n",
       "      <td>0</td>\n",
       "      <td>7.9250</td>\n",
       "      <td>0</td>\n",
       "      <td>0</td>\n",
       "      <td>1</td>\n",
       "      <td>1</td>\n",
       "      <td>0</td>\n",
       "    </tr>\n",
       "    <tr>\n",
       "      <th>3</th>\n",
       "      <td>1</td>\n",
       "      <td>1</td>\n",
       "      <td>35.0</td>\n",
       "      <td>1</td>\n",
       "      <td>0</td>\n",
       "      <td>53.1000</td>\n",
       "      <td>0</td>\n",
       "      <td>0</td>\n",
       "      <td>1</td>\n",
       "      <td>1</td>\n",
       "      <td>0</td>\n",
       "    </tr>\n",
       "    <tr>\n",
       "      <th>4</th>\n",
       "      <td>0</td>\n",
       "      <td>3</td>\n",
       "      <td>35.0</td>\n",
       "      <td>0</td>\n",
       "      <td>0</td>\n",
       "      <td>8.0500</td>\n",
       "      <td>0</td>\n",
       "      <td>0</td>\n",
       "      <td>1</td>\n",
       "      <td>0</td>\n",
       "      <td>1</td>\n",
       "    </tr>\n",
       "  </tbody>\n",
       "</table>\n",
       "</div>"
      ],
      "text/plain": [
       "   Survived  Pclass   Age  SibSp  Parch     Fare  Embarked_C  Embarked_Q  \\\n",
       "0         0       3  22.0      1      0   7.2500           0           0   \n",
       "1         1       1  38.0      1      0  71.2833           1           0   \n",
       "2         1       3  26.0      0      0   7.9250           0           0   \n",
       "3         1       1  35.0      1      0  53.1000           0           0   \n",
       "4         0       3  35.0      0      0   8.0500           0           0   \n",
       "\n",
       "   Embarked_S  Sex_female  Sex_male  \n",
       "0           1           0         1  \n",
       "1           0           1         0  \n",
       "2           1           1         0  \n",
       "3           1           1         0  \n",
       "4           1           0         1  "
      ]
     },
     "execution_count": 23,
     "metadata": {},
     "output_type": "execute_result"
    }
   ],
   "source": [
    "titanic_df_dummies.head()"
   ]
  },
  {
   "cell_type": "code",
   "execution_count": 24,
   "id": "f88abe27",
   "metadata": {},
   "outputs": [],
   "source": [
    "#### checking the correlation"
   ]
  },
  {
   "cell_type": "code",
   "execution_count": 25,
   "id": "64370529",
   "metadata": {},
   "outputs": [],
   "source": [
    "def plot_correlation_map( df ):\n",
    "\n",
    "    corr = df.corr()\n",
    "\n",
    "    s , ax = plt.subplots( figsize =( 12 , 10 ) )\n",
    "\n",
    "    cmap = sns.diverging_palette( 220 , 10 , as_cmap = True )\n",
    "\n",
    "    s = sns.heatmap(\n",
    "\n",
    "        corr, \n",
    "\n",
    "        cmap = cmap,\n",
    "\n",
    "        square=True, \n",
    "\n",
    "        cbar_kws={ 'shrink' : .9 }, \n",
    "\n",
    "        ax=ax, \n",
    "\n",
    "        annot = True, \n",
    "\n",
    "        annot_kws = { 'fontsize' : 12 }\n",
    "\n",
    "        )"
   ]
  },
  {
   "cell_type": "code",
   "execution_count": 26,
   "id": "5368bbb4",
   "metadata": {},
   "outputs": [
    {
     "data": {
      "image/png": "[encoded data removed]",
      "text/plain": [
       "<Figure size 864x720 with 2 Axes>"
      ]
     },
     "metadata": {},
     "output_type": "display_data"
    }
   ],
   "source": [
    " plot_correlation_map(titanic_df_dummies.corr())"
   ]
  },
  {
   "cell_type": "code",
   "execution_count": 27,
   "id": "b0dbc8ec",
   "metadata": {},
   "outputs": [],
   "source": [
    "### we can notice a strong correlation between survived and female sex"
   ]
  },
  {
   "cell_type": "markdown",
   "id": "8623ff50",
   "metadata": {},
   "source": [
    "### Machine learning: logistic regression"
   ]
  },
  {
   "cell_type": "code",
   "execution_count": 29,
   "id": "d178e044",
   "metadata": {},
   "outputs": [],
   "source": [
    "used_feautures = ['Pclass','Age','SibSp','Parch','Embarked_C','Embarked_Q','Embarked_S','Sex_female','Sex_male']\n",
    "X = titanic_df_dummies[used_feautures].values\n",
    "Y = titanic_df_dummies['Survived']"
   ]
  },
  {
   "cell_type": "code",
   "execution_count": 31,
   "id": "48d2ec1b",
   "metadata": {},
   "outputs": [],
   "source": [
    "X_train,X_test,Y_train,Y_test = train_test_split(X,Y,test_size = 0.3,random_state = 1)\n"
   ]
  },
  {
   "cell_type": "code",
   "execution_count": 32,
   "id": "19ceea43",
   "metadata": {},
   "outputs": [
    {
     "name": "stdout",
     "output_type": "stream",
     "text": [
      "(622, 9)\n",
      "(267, 9)\n",
      "(622,)\n",
      "(267,)\n"
     ]
    }
   ],
   "source": [
    "print(X_train.shape)\n",
    "print(X_test.shape)\n",
    "print(Y_train.shape)\n",
    "print(Y_test.shape)"
   ]
  },
  {
   "cell_type": "code",
   "execution_count": 33,
   "id": "ed5c602f",
   "metadata": {},
   "outputs": [],
   "source": [
    "### Applying Logistic Regression"
   ]
  },
  {
   "cell_type": "code",
   "execution_count": 35,
   "id": "d5c6c56f",
   "metadata": {},
   "outputs": [
    {
     "name": "stderr",
     "output_type": "stream",
     "text": [
      "C:\\ProgramData\\Anaconda3\\lib\\site-packages\\sklearn\\linear_model\\_logistic.py:763: ConvergenceWarning: lbfgs failed to converge (status=1):\n",
      "STOP: TOTAL NO. of ITERATIONS REACHED LIMIT.\n",
      "\n",
      "Increase the number of iterations (max_iter) or scale the data as shown in:\n",
      "    https://scikit-learn.org/stable/modules/preprocessing.html\n",
      "Please also refer to the documentation for alternative solver options:\n",
      "    https://scikit-learn.org/stable/modules/linear_model.html#logistic-regression\n",
      "  n_iter_i = _check_optimize_result(\n"
     ]
    },
    {
     "data": {
      "text/plain": [
       "LogisticRegression()"
      ]
     },
     "execution_count": 35,
     "metadata": {},
     "output_type": "execute_result"
    }
   ],
   "source": [
    "LogReg = LogisticRegression()\n",
    "LogReg .fit(X_train,Y_train)"
   ]
  },
  {
   "cell_type": "code",
   "execution_count": 49,
   "id": "2cee0ae2",
   "metadata": {},
   "outputs": [],
   "source": [
    "y_pred = LogReg .predict(X_test)"
   ]
  },
  {
   "cell_type": "code",
   "execution_count": 50,
   "id": "abfc993a",
   "metadata": {},
   "outputs": [],
   "source": [
    "# evaluating the model performence"
   ]
  },
  {
   "cell_type": "code",
   "execution_count": 37,
   "id": "e0a80a15",
   "metadata": {},
   "outputs": [
    {
     "data": {
      "text/plain": [
       "array([[143,  23],\n",
       "       [ 22,  79]], dtype=int64)"
      ]
     },
     "execution_count": 37,
     "metadata": {},
     "output_type": "execute_result"
    }
   ],
   "source": [
    "metrics.confusion_matrix(Y_test,y_pred)"
   ]
  },
  {
   "cell_type": "code",
   "execution_count": 38,
   "id": "2445c24e",
   "metadata": {},
   "outputs": [
    {
     "data": {
      "text/plain": [
       "0.8314606741573034"
      ]
     },
     "execution_count": 38,
     "metadata": {},
     "output_type": "execute_result"
    }
   ],
   "source": [
    "metrics.accuracy_score(Y_test,y_pred)"
   ]
  },
  {
   "cell_type": "code",
   "execution_count": 39,
   "id": "cad7deb1",
   "metadata": {},
   "outputs": [
    {
     "data": {
      "text/plain": [
       "267"
      ]
     },
     "execution_count": 39,
     "metadata": {},
     "output_type": "execute_result"
    }
   ],
   "source": [
    "len(X_test)"
   ]
  },
  {
   "cell_type": "code",
   "execution_count": 40,
   "id": "0434be76",
   "metadata": {},
   "outputs": [
    {
     "name": "stdout",
     "output_type": "stream",
     "text": [
      "              precision    recall  f1-score   support\n",
      "\n",
      "           0       0.87      0.86      0.86       166\n",
      "           1       0.77      0.78      0.78       101\n",
      "\n",
      "    accuracy                           0.83       267\n",
      "   macro avg       0.82      0.82      0.82       267\n",
      "weighted avg       0.83      0.83      0.83       267\n",
      "\n"
     ]
    }
   ],
   "source": [
    "print(classification_report(Y_test,y_pred))"
   ]
  },
  {
   "cell_type": "code",
   "execution_count": 41,
   "id": "d91058df",
   "metadata": {},
   "outputs": [
    {
     "data": {
      "text/plain": [
       "array([[-1.03670529, -0.03973281, -0.24476561, -0.04711189,  0.35713729,\n",
       "        -0.01871504, -0.3016414 ,  1.2178908 , -1.18110995]])"
      ]
     },
     "execution_count": 41,
     "metadata": {},
     "output_type": "execute_result"
    }
   ],
   "source": [
    "LogReg.coef_"
   ]
  },
  {
   "cell_type": "code",
   "execution_count": 42,
   "id": "6d60dbee",
   "metadata": {},
   "outputs": [
    {
     "data": {
      "text/plain": [
       "array([3.6132902])"
      ]
     },
     "execution_count": 42,
     "metadata": {},
     "output_type": "execute_result"
    }
   ],
   "source": [
    "LogReg.intercept_"
   ]
  },
  {
   "cell_type": "code",
   "execution_count": 43,
   "id": "5d6b0a47",
   "metadata": {},
   "outputs": [
    {
     "data": {
      "text/plain": [
       "Index(['Pclass', 'Age', 'SibSp', 'Parch', 'Embarked_C', 'Embarked_Q',\n",
       "       'Embarked_S', 'Sex_female', 'Sex_male'],\n",
       "      dtype='object')"
      ]
     },
     "execution_count": 43,
     "metadata": {},
     "output_type": "execute_result"
    }
   ],
   "source": [
    "titanic_df_dummies[used_feautures].columns"
   ]
  },
  {
   "cell_type": "code",
   "execution_count": 44,
   "id": "e1f8ea4d",
   "metadata": {},
   "outputs": [
    {
     "data": {
      "text/plain": [
       "array([[0.26390932, 0.73609068],\n",
       "       [0.39594822, 0.60405178],\n",
       "       [0.94718764, 0.05281236],\n",
       "       [0.25604543, 0.74395457],\n",
       "       [0.94551932, 0.05448068],\n",
       "       [0.13500403, 0.86499597],\n",
       "       [0.33087436, 0.66912564],\n",
       "       [0.52271521, 0.47728479],\n",
       "       [0.78383112, 0.21616888],\n",
       "       [0.40459131, 0.59540869],\n",
       "       [0.74110857, 0.25889143],\n",
       "       [0.21150125, 0.78849875],\n",
       "       [0.74934525, 0.25065475],\n",
       "       [0.14672088, 0.85327912],\n",
       "       [0.86456081, 0.13543919],\n",
       "       [0.3669551 , 0.6330449 ],\n",
       "       [0.89365596, 0.10634404],\n",
       "       [0.29591715, 0.70408285],\n",
       "       [0.17567539, 0.82432461],\n",
       "       [0.40243538, 0.59756462],\n",
       "       [0.90473909, 0.09526091],\n",
       "       [0.55569739, 0.44430261],\n",
       "       [0.8648786 , 0.1351214 ],\n",
       "       [0.93904284, 0.06095716],\n",
       "       [0.51876547, 0.48123453],\n",
       "       [0.51266987, 0.48733013],\n",
       "       [0.03924009, 0.96075991],\n",
       "       [0.86914632, 0.13085368],\n",
       "       [0.89825005, 0.10174995],\n",
       "       [0.32109099, 0.67890901],\n",
       "       [0.38560223, 0.61439777],\n",
       "       [0.41048427, 0.58951573],\n",
       "       [0.15430788, 0.84569212],\n",
       "       [0.42121609, 0.57878391],\n",
       "       [0.5929757 , 0.4070243 ],\n",
       "       [0.16496505, 0.83503495],\n",
       "       [0.65943535, 0.34056465],\n",
       "       [0.87359927, 0.12640073],\n",
       "       [0.24394001, 0.75605999],\n",
       "       [0.57953702, 0.42046298],\n",
       "       [0.43722942, 0.56277058],\n",
       "       [0.91159032, 0.08840968],\n",
       "       [0.32040464, 0.67959536],\n",
       "       [0.87359927, 0.12640073],\n",
       "       [0.79731566, 0.20268434],\n",
       "       [0.23421194, 0.76578806],\n",
       "       [0.16999548, 0.83000452],\n",
       "       [0.81644594, 0.18355406],\n",
       "       [0.06077304, 0.93922696],\n",
       "       [0.92339706, 0.07660294],\n",
       "       [0.87359927, 0.12640073],\n",
       "       [0.42984142, 0.57015858],\n",
       "       [0.88500325, 0.11499675],\n",
       "       [0.0910526 , 0.9089474 ],\n",
       "       [0.74934525, 0.25065475],\n",
       "       [0.07098868, 0.92901132],\n",
       "       [0.77800094, 0.22199906],\n",
       "       [0.95300065, 0.04699935],\n",
       "       [0.70197626, 0.29802374],\n",
       "       [0.93788112, 0.06211888],\n",
       "       [0.81589799, 0.18410201],\n",
       "       [0.85984053, 0.14015947],\n",
       "       [0.5929757 , 0.4070243 ],\n",
       "       [0.87359927, 0.12640073],\n",
       "       [0.42984142, 0.57015858],\n",
       "       [0.23668671, 0.76331329],\n",
       "       [0.87359927, 0.12640073],\n",
       "       [0.91137114, 0.08862886],\n",
       "       [0.84712691, 0.15287309],\n",
       "       [0.05469526, 0.94530474],\n",
       "       [0.86787275, 0.13212725],\n",
       "       [0.05678632, 0.94321368],\n",
       "       [0.65159462, 0.34840538],\n",
       "       [0.85984053, 0.14015947],\n",
       "       [0.31273777, 0.68726223],\n",
       "       [0.13500403, 0.86499597],\n",
       "       [0.83892324, 0.16107676],\n",
       "       [0.92384634, 0.07615366],\n",
       "       [0.82725026, 0.17274974],\n",
       "       [0.83364032, 0.16635968],\n",
       "       [0.83892324, 0.16107676],\n",
       "       [0.86456081, 0.13543919],\n",
       "       [0.03924009, 0.96075991],\n",
       "       [0.06102708, 0.93897292],\n",
       "       [0.76397348, 0.23602652],\n",
       "       [0.62139628, 0.37860372],\n",
       "       [0.43555266, 0.56444734],\n",
       "       [0.4316508 , 0.5683492 ],\n",
       "       [0.87359927, 0.12640073],\n",
       "       [0.3669551 , 0.6330449 ],\n",
       "       [0.89766649, 0.10233351],\n",
       "       [0.32109099, 0.67890901],\n",
       "       [0.93430155, 0.06569845],\n",
       "       [0.78149261, 0.21850739],\n",
       "       [0.24515627, 0.75484373],\n",
       "       [0.83993593, 0.16006407],\n",
       "       [0.22780279, 0.77219721],\n",
       "       [0.27569879, 0.72430121],\n",
       "       [0.24515627, 0.75484373],\n",
       "       [0.21351317, 0.78648683],\n",
       "       [0.84998717, 0.15001283],\n",
       "       [0.34138659, 0.65861341],\n",
       "       [0.60738768, 0.39261232],\n",
       "       [0.85498333, 0.14501667],\n",
       "       [0.85498333, 0.14501667],\n",
       "       [0.90753325, 0.09246675],\n",
       "       [0.13621259, 0.86378741],\n",
       "       [0.84998717, 0.15001283],\n",
       "       [0.76761988, 0.23238012],\n",
       "       [0.81644594, 0.18355406],\n",
       "       [0.64136955, 0.35863045],\n",
       "       [0.74934525, 0.25065475],\n",
       "       [0.78149261, 0.21850739],\n",
       "       [0.18509381, 0.81490619],\n",
       "       [0.36009796, 0.63990204],\n",
       "       [0.08656969, 0.91343031],\n",
       "       [0.91762135, 0.08237865],\n",
       "       [0.40459131, 0.59540869],\n",
       "       [0.06407393, 0.93592607],\n",
       "       [0.79142232, 0.20857768],\n",
       "       [0.87792198, 0.12207802],\n",
       "       [0.20703434, 0.79296566],\n",
       "       [0.32109099, 0.67890901],\n",
       "       [0.50467117, 0.49532883],\n",
       "       [0.20857861, 0.79142139],\n",
       "       [0.89206041, 0.10793959],\n",
       "       [0.44711539, 0.55288461],\n",
       "       [0.91192441, 0.08807559],\n",
       "       [0.8821168 , 0.1178832 ],\n",
       "       [0.57824486, 0.42175514],\n",
       "       [0.44495634, 0.55504366],\n",
       "       [0.60738768, 0.39261232],\n",
       "       [0.88094434, 0.11905566],\n",
       "       [0.5929757 , 0.4070243 ],\n",
       "       [0.3669551 , 0.6330449 ],\n",
       "       [0.07092207, 0.92907793],\n",
       "       [0.85984053, 0.14015947],\n",
       "       [0.9261607 , 0.0738393 ],\n",
       "       [0.87359927, 0.12640073],\n",
       "       [0.89013255, 0.10986745],\n",
       "       [0.85939981, 0.14060019],\n",
       "       [0.31410825, 0.68589175],\n",
       "       [0.92339706, 0.07660294],\n",
       "       [0.38711216, 0.61288784],\n",
       "       [0.5929757 , 0.4070243 ],\n",
       "       [0.6942735 , 0.3057265 ],\n",
       "       [0.18067815, 0.81932185],\n",
       "       [0.10737296, 0.89262704],\n",
       "       [0.07872621, 0.92127379],\n",
       "       [0.92942176, 0.07057824],\n",
       "       [0.85842754, 0.14157246],\n",
       "       [0.93632007, 0.06367993],\n",
       "       [0.1421732 , 0.8578268 ],\n",
       "       [0.84998717, 0.15001283],\n",
       "       [0.38197772, 0.61802228],\n",
       "       [0.3669551 , 0.6330449 ],\n",
       "       [0.79081881, 0.20918119],\n",
       "       [0.3748566 , 0.6251434 ],\n",
       "       [0.89013255, 0.10986745],\n",
       "       [0.87359927, 0.12640073],\n",
       "       [0.50467117, 0.49532883],\n",
       "       [0.77106274, 0.22893726],\n",
       "       [0.57824486, 0.42175514],\n",
       "       [0.86932501, 0.13067499],\n",
       "       [0.87319544, 0.12680456],\n",
       "       [0.8341462 , 0.1658538 ],\n",
       "       [0.13696367, 0.86303633],\n",
       "       [0.05947039, 0.94052961],\n",
       "       [0.7801931 , 0.2198069 ],\n",
       "       [0.23802245, 0.76197755],\n",
       "       [0.84998717, 0.15001283],\n",
       "       [0.90130367, 0.09869633],\n",
       "       [0.83892324, 0.16107676],\n",
       "       [0.87359927, 0.12640073],\n",
       "       [0.68088878, 0.31911122],\n",
       "       [0.29349071, 0.70650929],\n",
       "       [0.86456081, 0.13543919],\n",
       "       [0.71022133, 0.28977867],\n",
       "       [0.87359927, 0.12640073],\n",
       "       [0.84998717, 0.15001283],\n",
       "       [0.83892324, 0.16107676],\n",
       "       [0.87359927, 0.12640073],\n",
       "       [0.65613438, 0.34386562],\n",
       "       [0.93348369, 0.06651631],\n",
       "       [0.32109099, 0.67890901],\n",
       "       [0.83012486, 0.16987514],\n",
       "       [0.37660183, 0.62339817],\n",
       "       [0.58335168, 0.41664832],\n",
       "       [0.22763826, 0.77236174],\n",
       "       [0.90473909, 0.09526091],\n",
       "       [0.75723371, 0.24276629],\n",
       "       [0.71887916, 0.28112084],\n",
       "       [0.86456081, 0.13543919],\n",
       "       [0.76511995, 0.23488005],\n",
       "       [0.93713488, 0.06286512],\n",
       "       [0.74865865, 0.25134135],\n",
       "       [0.90073569, 0.09926431],\n",
       "       [0.28957193, 0.71042807],\n",
       "       [0.5929757 , 0.4070243 ],\n",
       "       [0.06637917, 0.93362083],\n",
       "       [0.70287269, 0.29712731],\n",
       "       [0.18204677, 0.81795323],\n",
       "       [0.77990035, 0.22009965],\n",
       "       [0.54932598, 0.45067402],\n",
       "       [0.04774345, 0.95225655],\n",
       "       [0.89013255, 0.10986745],\n",
       "       [0.87577676, 0.12422324],\n",
       "       [0.32193326, 0.67806674],\n",
       "       [0.81048789, 0.18951211],\n",
       "       [0.08781722, 0.91218278],\n",
       "       [0.83892324, 0.16107676],\n",
       "       [0.74180868, 0.25819132],\n",
       "       [0.78149261, 0.21850739],\n",
       "       [0.76761988, 0.23238012],\n",
       "       [0.31159866, 0.68840134],\n",
       "       [0.19576442, 0.80423558],\n",
       "       [0.75673396, 0.24326604],\n",
       "       [0.1932967 , 0.8067033 ],\n",
       "       [0.91452849, 0.08547151],\n",
       "       [0.69417482, 0.30582518],\n",
       "       [0.86932501, 0.13067499],\n",
       "       [0.49968008, 0.50031992],\n",
       "       [0.67138906, 0.32861094],\n",
       "       [0.22026124, 0.77973876],\n",
       "       [0.24258164, 0.75741836],\n",
       "       [0.86456081, 0.13543919],\n",
       "       [0.57791372, 0.42208628],\n",
       "       [0.83892324, 0.16107676],\n",
       "       [0.78820154, 0.21179846],\n",
       "       [0.75072868, 0.24927132],\n",
       "       [0.37660183, 0.62339817],\n",
       "       [0.29320901, 0.70679099],\n",
       "       [0.46833074, 0.53166926],\n",
       "       [0.83892324, 0.16107676],\n",
       "       [0.89766649, 0.10233351],\n",
       "       [0.89075385, 0.10924615],\n",
       "       [0.87359927, 0.12640073],\n",
       "       [0.80112963, 0.19887037],\n",
       "       [0.35848393, 0.64151607],\n",
       "       [0.87792198, 0.12207802],\n",
       "       [0.29591715, 0.70408285],\n",
       "       [0.83892324, 0.16107676],\n",
       "       [0.84998717, 0.15001283],\n",
       "       [0.67279263, 0.32720737],\n",
       "       [0.51610397, 0.48389603],\n",
       "       [0.0979854 , 0.9020146 ],\n",
       "       [0.13329207, 0.86670793],\n",
       "       [0.79936628, 0.20063372],\n",
       "       [0.69282109, 0.30717891],\n",
       "       [0.87430086, 0.12569914],\n",
       "       [0.24209657, 0.75790343],\n",
       "       [0.32109099, 0.67890901],\n",
       "       [0.39505718, 0.60494282],\n",
       "       [0.94130611, 0.05869389],\n",
       "       [0.10888455, 0.89111545],\n",
       "       [0.2248811 , 0.7751189 ],\n",
       "       [0.8821168 , 0.1178832 ],\n",
       "       [0.90473909, 0.09526091],\n",
       "       [0.03980028, 0.96019972],\n",
       "       [0.78149261, 0.21850739],\n",
       "       [0.20047262, 0.79952738],\n",
       "       [0.87306866, 0.12693134],\n",
       "       [0.66109059, 0.33890941],\n",
       "       [0.87359927, 0.12640073],\n",
       "       [0.29320901, 0.70679099],\n",
       "       [0.83892324, 0.16107676],\n",
       "       [0.91306287, 0.08693713]])"
      ]
     },
     "execution_count": 44,
     "metadata": {},
     "output_type": "execute_result"
    }
   ],
   "source": [
    "LogReg.predict_proba(X_test)"
   ]
  },
  {
   "cell_type": "code",
   "execution_count": 51,
   "id": "153f2197",
   "metadata": {},
   "outputs": [],
   "source": [
    "# 2. Use a confusion matrix to validate your model. "
   ]
  },
  {
   "cell_type": "code",
   "execution_count": 55,
   "id": "9b6941a5",
   "metadata": {},
   "outputs": [],
   "source": [
    "conf_mat = metrics.confusion_matrix(Y_test,y_pred)"
   ]
  },
  {
   "cell_type": "code",
   "execution_count": 56,
   "id": "bf7c3e3b",
   "metadata": {},
   "outputs": [
    {
     "data": {
      "image/png": "[encoded data removed]",
      "text/plain": [
       "<Figure size 432x432 with 1 Axes>"
      ]
     },
     "metadata": {},
     "output_type": "display_data"
    }
   ],
   "source": [
    "plt.figure(figsize=(6,6))\n",
    "plt.title('Confusion matrix ')\n",
    "sns.heatmap(conf_mat, annot=True, fmt='d', cmap=plt.cm.Greens, cbar=False)\n",
    "plt.xlabel('Predicted ')\n",
    "plt.ylabel('Actual')\n",
    "plt.show()"
   ]
  },
  {
   "cell_type": "markdown",
   "id": "3ba4e45a",
   "metadata": {},
   "source": [
    "### we can ntice that:\n",
    "* here we got 22 survived passengers which are predicted as not survived. Also , we found here that there are 23 not survived passengers yet predicted as survived."
   ]
  },
  {
   "cell_type": "code",
   "execution_count": 57,
   "id": "ca1228f1",
   "metadata": {},
   "outputs": [],
   "source": [
    "# 3. Another validation matrix for classification is ROC / AUC, do your research on them explain them, and apply them in our case.\n"
   ]
  },
  {
   "cell_type": "markdown",
   "id": "8949381f",
   "metadata": {},
   "source": [
    "### ROC / AUC\n",
    "* The concept of ROC and AUC builds upon the knowledge of Confusion Matrix, Specificity and Sensitivity.\n",
    "\n",
    "\n",
    "* A ROC curve shows you performance across a range of different classification thresholds and a confusion matrix only shows you one (typically when  Pr(y>0.5) ).\n",
    "\n",
    "\n",
    "\n",
    "* A confusion matrix can be used to measure the performance of a particular classifier with a fixed threshold. Given a set of input cases, the classifier scores each one, and score above the threshold are labelled Class 1 and scores below the threshold are labelled Class 2.\n",
    "\n",
    "* The ROC curve, on the other hand, examines the performance of a classifier without fixing the threshold. Given a set of input cases, the classifier scores each one. The ROC curve is then generated by testing every possible threshold and plotting each result as a point on the curve.\n",
    "\n",
    "* AUC of a classifier is equal to the probability that the classifier will rank a randomly chosen positive example higher than that of a randomly chosen negative example. The Area Under the Curve provides the ability for a classifier to distinguish between classes and is used as a summary of the ROC curve.\n",
    "\n",
    "* The higher the AUC, it is assumed that the better the performance of the model at distinguishing between the positive and negative classes. \n",
    "\n",
    "* A confusion matrix evaluates one particular classifier with a fixed threshold, while the AUC evaluates that classifier over all possible thresholds."
   ]
  },
  {
   "cell_type": "code",
   "execution_count": 59,
   "id": "bf568e2c",
   "metadata": {},
   "outputs": [
    {
     "name": "stdout",
     "output_type": "stream",
     "text": [
      "LogisticRegression auc is 0.90421090\n"
     ]
    },
    {
     "data": {
      "image/png": "[encoded data removed]",
      "text/plain": [
       "<Figure size 720x648 with 1 Axes>"
      ]
     },
     "metadata": {},
     "output_type": "display_data"
    }
   ],
   "source": [
    "from sklearn.metrics import roc_curve, auc\n",
    "#plt.style.use('seaborn-pastel')\n",
    "y_score = LogReg.decision_function(X_test) #y_pred_proba = logreg.predict_proba(X_test)[:, 1] same as this?\n",
    "\n",
    "FPR, TPR, THR = roc_curve(Y_test, y_score) #[fpr, tpr, thr] = roc_curve(y_test, y_pred_proba) same as this\n",
    "ROC_AUC = auc(FPR, TPR)\n",
    "print (LogReg.__class__.__name__+\" auc is %2.8f\" % ROC_AUC) #Gives AUC score.\n",
    "\n",
    "\n",
    "#Next is draw roc graph.\n",
    "plt.figure(figsize =[10,9])\n",
    "plt.plot(FPR, TPR, label= 'ROC curve(area = %0.2f)'%ROC_AUC, linewidth= 4)\n",
    "plt.plot([0,1],[0,1], 'k--', linewidth = 4)\n",
    "plt.xlim([0.0,1.0])\n",
    "plt.ylim([0.0,1.05])\n",
    "plt.xlabel('False Positive Rate', fontsize = 17)\n",
    "plt.ylabel('True Positive Rate', fontsize = 17)\n",
    "plt.title('ROC for Logistic Regression (Titanic)', fontsize= 17)\n",
    "plt.show()"
   ]
  },
  {
   "cell_type": "code",
   "execution_count": 60,
   "id": "f58a1476",
   "metadata": {},
   "outputs": [
    {
     "data": {
      "image/png": "[encoded data removed]",
      "text/plain": [
       "<Figure size 792x648 with 1 Axes>"
      ]
     },
     "metadata": {},
     "output_type": "display_data"
    }
   ],
   "source": [
    "from sklearn.metrics import precision_recall_curve\n",
    "\n",
    "y_score = LogReg.decision_function(X_test)\n",
    "\n",
    "precision, recall, _ = precision_recall_curve(Y_test, y_score)\n",
    "PR_AUC = auc(recall, precision)\n",
    "\n",
    "plt.figure(figsize=[11,9])\n",
    "plt.plot(recall, precision, label='PR curve (area = %0.2f)' % PR_AUC, linewidth=4)\n",
    "plt.xlabel('Recall', fontsize=18)\n",
    "plt.ylabel('Precision', fontsize=18)\n",
    "plt.title('Precision Recall Curve for Titanic survivors', fontsize=18)\n",
    "plt.legend(loc=\"lower right\")\n",
    "plt.show()"
   ]
  },
  {
   "cell_type": "code",
   "execution_count": null,
   "id": "4f2da514",
   "metadata": {},
   "outputs": [],
   "source": []
  },
  {
   "cell_type": "code",
   "execution_count": null,
   "id": "0514e54b",
   "metadata": {},
   "outputs": [],
   "source": []
  },
  {
   "cell_type": "code",
   "execution_count": null,
   "id": "711eea5e",
   "metadata": {},
   "outputs": [],
   "source": []
  },
  {
   "cell_type": "code",
   "execution_count": null,
   "id": "48787fb9",
   "metadata": {},
   "outputs": [],
   "source": []
  },
  {
   "cell_type": "code",
   "execution_count": null,
   "id": "b02f75fb",
   "metadata": {},
   "outputs": [],
   "source": []
  },
  {
   "cell_type": "code",
   "execution_count": null,
   "id": "dfbda414",
   "metadata": {},
   "outputs": [],
   "source": []
  },
  {
   "cell_type": "code",
   "execution_count": null,
   "id": "2c662075",
   "metadata": {},
   "outputs": [],
   "source": []
  },
  {
   "cell_type": "code",
   "execution_count": null,
   "id": "e9374dd4",
   "metadata": {},
   "outputs": [],
   "source": []
  },
  {
   "cell_type": "code",
   "execution_count": null,
   "id": "ded41bde",
   "metadata": {},
   "outputs": [],
   "source": []
  }
 ],
 "metadata": {
  "kernelspec": {
   "display_name": "Python 3",
   "language": "python",
   "name": "python3"
  },
  "language_info": {
   "codemirror_mode": {
    "name": "ipython",
    "version": 3
   },
   "file_extension": ".py",
   "mimetype": "text/x-python",
   "name": "python",
   "nbconvert_exporter": "python",
   "pygments_lexer": "ipython3",
   "version": "3.8.8"
  }
 },
 "nbformat": 4,
 "nbformat_minor": 5
}
